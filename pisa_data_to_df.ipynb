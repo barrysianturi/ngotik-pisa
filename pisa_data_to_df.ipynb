{
 "cells": [
  {
   "cell_type": "code",
   "execution_count": 20,
   "metadata": {},
   "outputs": [],
   "source": [
    "import os\n",
    "import pandas as pd\n",
    "from openpyxl import load_workbook"
   ]
  },
  {
   "cell_type": "code",
   "execution_count": 4,
   "metadata": {},
   "outputs": [
    {
     "data": {
      "text/plain": [
       "['.git',\n",
       " 'first notebook.ipynb',\n",
       " 'pisa_data_to_df.ipynb',\n",
       " 'Reading Material',\n",
       " 'README.md']"
      ]
     },
     "execution_count": 4,
     "metadata": {},
     "output_type": "execute_result"
    }
   ],
   "source": [
    "os.listdir()"
   ]
  },
  {
   "cell_type": "code",
   "execution_count": 9,
   "metadata": {},
   "outputs": [
    {
     "data": {
      "text/plain": [
       "['EDU-2019-4228-EN-T010.XLSX',\n",
       " 'EDU-2019-4228-EN-T014.XLSX',\n",
       " 'EDU-2019-4229-EN-T007.XLSX',\n",
       " 'EDU-2019-4229-EN-T008.XLSX',\n",
       " 'EDU-2019-4229-EN-T009.XLSX',\n",
       " 'EDU-2019-4229-EN-T010.XLSX',\n",
       " 'EDU-2019-4229-EN-T011.XLSX',\n",
       " 'EDU-2019-4229-EN-T012.XLSX',\n",
       " 'EDU-2019-4229-EN-T013.XLSX',\n",
       " 'EDU-2019-4229-EN-T014.XLSX',\n",
       " 'EDU-2019-4230-EN-T006.XLSX',\n",
       " 'EDU-2019-4230-EN-T008.XLSX',\n",
       " 'EDU-2019-4230-EN-T009.XLSX',\n",
       " 'EDU-2019-4230-EN-T010.XLSX',\n",
       " 'EDU-2019-4230-EN-T011.XLSX',\n",
       " 'EDU-2019-4230-EN-T012.XLSX',\n",
       " 'EDU-2019-4230-EN-T013.XLSX',\n",
       " 'EDU-2019-4230-EN-T015.XLSX',\n",
       " 'EDU-2019-4230-EN-T016.XLSX',\n",
       " 'EDU-2019-4230-EN-T017.XLSX',\n",
       " 'EDU-2019-4230-EN-T018.XLSX',\n",
       " 'EDU-2020-485-EN-T009.XLSX']"
      ]
     },
     "execution_count": 9,
     "metadata": {},
     "output_type": "execute_result"
    }
   ],
   "source": [
    "# Specify the directory you want to list\n",
    "folder_path = 'Reading Material/Data - Sheets'\n",
    "\n",
    "# List all files in the specified directory\n",
    "file_list = os.listdir(folder_path)\n",
    "\n",
    "file_list"
   ]
  },
  {
   "cell_type": "code",
   "execution_count": 28,
   "metadata": {},
   "outputs": [
    {
     "data": {
      "text/plain": [
       "['TOC',\n",
       " 'Table I.A2.1',\n",
       " 'Table I.A2.2',\n",
       " 'Table I.A2.3',\n",
       " 'Table I.A2.4',\n",
       " 'Table I.A2.5',\n",
       " 'Table I.A2.6',\n",
       " 'Table I.A2.7',\n",
       " 'Table I.A2.8',\n",
       " 'Table I.A2.9',\n",
       " 'Table I.A2.10',\n",
       " 'Table I.A2.11',\n",
       " 'Table I.A2.12',\n",
       " 'Table I.A2.13',\n",
       " 'Table I.A2.14',\n",
       " 'Table I.A2.15']"
      ]
     },
     "execution_count": 28,
     "metadata": {},
     "output_type": "execute_result"
    }
   ],
   "source": [
    "# Load the Excel file\n",
    "file_path = 'Reading Material/Data - Sheets/EDU-2019-4228-EN-T010.XLSX'\n",
    "\n",
    "# Attempt to read all sheets to find out their names\n",
    "try:\n",
    "    # This will not read any data, just the sheet names\n",
    "    all_sheets = pd.ExcelFile(file_path).sheet_names\n",
    "except Exception as e:\n",
    "    all_sheets = str(e)\n",
    "\n",
    "all_sheets"
   ]
  },
  {
   "cell_type": "code",
   "execution_count": 39,
   "metadata": {},
   "outputs": [
    {
     "data": {
      "text/plain": [
       "['nan_nan',\n",
       " 'population_and_sample_information_total_population_of_15-year-olds',\n",
       " 'population_and_sample_information_total_enrolled_population_of_15-year-olds_at_grade_7_or_above',\n",
       " 'population_and_sample_information_total_in_national_desired_target_population',\n",
       " 'population_and_sample_information_total_school-level_exclusions',\n",
       " 'population_and_sample_information_total_in_national_desired_target_population_after_all_school_exclusions_and_before_within-school_exclusions',\n",
       " 'population_and_sample_information_school-level_exclusion_rate_(%)',\n",
       " 'population_and_sample_information_number_of_participating_students',\n",
       " 'population_and_sample_information_weighted_number_of_participating_students',\n",
       " 'population_and_sample_information_number_of_excluded_students',\n",
       " 'population_and_sample_information_weighted_number_of_excluded_students',\n",
       " 'population_and_sample_information_within-school_exclusion_rate_(%)',\n",
       " 'population_and_sample_information_overall_exclusion_rate_(%)',\n",
       " 'coverage_indices_coverage_index_1:_coverage_of_national_desired_population']"
      ]
     },
     "execution_count": 39,
     "metadata": {},
     "output_type": "execute_result"
    }
   ],
   "source": [
    "# Read the specified sheet into a dataframe, assuming header starts from row 14 (index 13 in zero-based indexing)\n",
    "sheet_name = 'Table I.A2.1'\n",
    "\n",
    "# Load the workbook and select the worksheet\n",
    "workbook = load_workbook(file_path, data_only=True)\n",
    "sheet = workbook[sheet_name]\n",
    "\n",
    "\n",
    "# Define the header rows based on the provided screenshot\n",
    "category_title_row_index = 11  # Excel row 12\n",
    "column_title_row_index = 12    # Excel row 13\n",
    "column_number_row_index = 13   # Excel row 14\n",
    "\n",
    "\n",
    "# Read the category and column titles from the Excel file\n",
    "category_titles_row = pd.read_excel(file_path, sheet_name=sheet_name, nrows=1, skiprows=category_title_row_index-1).values[0]\n",
    "column_titles_row = pd.read_excel(file_path, sheet_name=sheet_name, nrows=1, skiprows=column_title_row_index-1).values[0]\n",
    "\n",
    "\n",
    "# Propagate the category titles to account for merged cells\n",
    "propagated_category_titles = []\n",
    "for title in category_titles_row:\n",
    "    if pd.isnull(title) and propagated_category_titles:\n",
    "        title = propagated_category_titles[-1]  # Use the previous title if current is NaN\n",
    "    propagated_category_titles.append(title)\n",
    "\n",
    "propagated_category_titles\n",
    "\n",
    "# Combine the category and column titles\n",
    "combined_header = []\n",
    "for category, column in zip(propagated_category_titles, column_titles_row):\n",
    "    category = category if category is not None else ''\n",
    "    column = column if column is not None else ''\n",
    "    combined_header.append(f\"{category}_{column}\".lower().replace(' ', '_'))\n",
    "\n"
   ]
  },
  {
   "cell_type": "code",
   "execution_count": 37,
   "metadata": {},
   "outputs": [
    {
     "data": {
      "text/plain": [
       "array([nan, 'Total population of 15-year-olds',\n",
       "       'Total enrolled population of 15-year-olds at grade 7 or above',\n",
       "       'Total in national desired target population',\n",
       "       'Total school-level exclusions',\n",
       "       'Total in national desired target population after all school exclusions and before within-school exclusions',\n",
       "       'School-level exclusion rate (%)',\n",
       "       'Number of participating students',\n",
       "       'Weighted number of participating students',\n",
       "       'Number of excluded students',\n",
       "       'Weighted number of excluded students',\n",
       "       'Within-school exclusion rate (%)', 'Overall exclusion rate (%)',\n",
       "       'Coverage Index 1: Coverage of national desired population',\n",
       "       'Coverage Index 2: Coverage of national enrolled population',\n",
       "       'Coverage Index 3: Coverage of 15-year-old population'],\n",
       "      dtype=object)"
      ]
     },
     "execution_count": 37,
     "metadata": {},
     "output_type": "execute_result"
    }
   ],
   "source": [
    "column_titles_row"
   ]
  },
  {
   "cell_type": "code",
   "execution_count": 36,
   "metadata": {},
   "outputs": [
    {
     "ename": "ValueError",
     "evalue": "Length mismatch: Expected axis has 16 elements, new values have 14 elements",
     "output_type": "error",
     "traceback": [
      "\u001b[1;31m---------------------------------------------------------------------------\u001b[0m",
      "\u001b[1;31mValueError\u001b[0m                                Traceback (most recent call last)",
      "\u001b[1;32mc:\\Users\\ZENIUS\\OneDrive\\Repositories\\ngotik-pisa\\pisa_data_to_df.ipynb Cell 6\u001b[0m line \u001b[0;36m8\n\u001b[0;32m      <a href='vscode-notebook-cell:/c%3A/Users/ZENIUS/OneDrive/Repositories/ngotik-pisa/pisa_data_to_df.ipynb#W6sZmlsZQ%3D%3D?line=4'>5</a>\u001b[0m df_data \u001b[39m=\u001b[39m pd\u001b[39m.\u001b[39mread_excel(file_path, sheet_name\u001b[39m=\u001b[39msheet_name, skiprows\u001b[39m=\u001b[39mcolumn_number_row_index)\n\u001b[0;32m      <a href='vscode-notebook-cell:/c%3A/Users/ZENIUS/OneDrive/Repositories/ngotik-pisa/pisa_data_to_df.ipynb#W6sZmlsZQ%3D%3D?line=6'>7</a>\u001b[0m \u001b[39m# Set the correct header for the dataframe, trimming to match the number of data columns\u001b[39;00m\n\u001b[1;32m----> <a href='vscode-notebook-cell:/c%3A/Users/ZENIUS/OneDrive/Repositories/ngotik-pisa/pisa_data_to_df.ipynb#W6sZmlsZQ%3D%3D?line=7'>8</a>\u001b[0m df_data\u001b[39m.\u001b[39;49mcolumns \u001b[39m=\u001b[39m sanitized_header[:\u001b[39mlen\u001b[39m(df_data\u001b[39m.\u001b[39mcolumns)]\n\u001b[0;32m     <a href='vscode-notebook-cell:/c%3A/Users/ZENIUS/OneDrive/Repositories/ngotik-pisa/pisa_data_to_df.ipynb#W6sZmlsZQ%3D%3D?line=9'>10</a>\u001b[0m \u001b[39m# Replace 'm' with np.nan for missing values\u001b[39;00m\n\u001b[0;32m     <a href='vscode-notebook-cell:/c%3A/Users/ZENIUS/OneDrive/Repositories/ngotik-pisa/pisa_data_to_df.ipynb#W6sZmlsZQ%3D%3D?line=10'>11</a>\u001b[0m df_data\u001b[39m.\u001b[39mreplace(\u001b[39m'\u001b[39m\u001b[39mm\u001b[39m\u001b[39m'\u001b[39m, pd\u001b[39m.\u001b[39mNA, inplace\u001b[39m=\u001b[39m\u001b[39mTrue\u001b[39;00m)\n",
      "File \u001b[1;32m~\\AppData\\Local\\Packages\\PythonSoftwareFoundation.Python.3.11_qbz5n2kfra8p0\\LocalCache\\local-packages\\Python311\\site-packages\\pandas\\core\\generic.py:6218\u001b[0m, in \u001b[0;36mNDFrame.__setattr__\u001b[1;34m(self, name, value)\u001b[0m\n\u001b[0;32m   6216\u001b[0m \u001b[39mtry\u001b[39;00m:\n\u001b[0;32m   6217\u001b[0m     \u001b[39mobject\u001b[39m\u001b[39m.\u001b[39m\u001b[39m__getattribute__\u001b[39m(\u001b[39mself\u001b[39m, name)\n\u001b[1;32m-> 6218\u001b[0m     \u001b[39mreturn\u001b[39;00m \u001b[39mobject\u001b[39;49m\u001b[39m.\u001b[39;49m\u001b[39m__setattr__\u001b[39;49m(\u001b[39mself\u001b[39;49m, name, value)\n\u001b[0;32m   6219\u001b[0m \u001b[39mexcept\u001b[39;00m \u001b[39mAttributeError\u001b[39;00m:\n\u001b[0;32m   6220\u001b[0m     \u001b[39mpass\u001b[39;00m\n",
      "File \u001b[1;32mproperties.pyx:69\u001b[0m, in \u001b[0;36mpandas._libs.properties.AxisProperty.__set__\u001b[1;34m()\u001b[0m\n",
      "File \u001b[1;32m~\\AppData\\Local\\Packages\\PythonSoftwareFoundation.Python.3.11_qbz5n2kfra8p0\\LocalCache\\local-packages\\Python311\\site-packages\\pandas\\core\\generic.py:767\u001b[0m, in \u001b[0;36mNDFrame._set_axis\u001b[1;34m(self, axis, labels)\u001b[0m\n\u001b[0;32m    762\u001b[0m \u001b[39m\u001b[39m\u001b[39m\"\"\"\u001b[39;00m\n\u001b[0;32m    763\u001b[0m \u001b[39mThis is called from the cython code when we set the `index` attribute\u001b[39;00m\n\u001b[0;32m    764\u001b[0m \u001b[39mdirectly, e.g. `series.index = [1, 2, 3]`.\u001b[39;00m\n\u001b[0;32m    765\u001b[0m \u001b[39m\"\"\"\u001b[39;00m\n\u001b[0;32m    766\u001b[0m labels \u001b[39m=\u001b[39m ensure_index(labels)\n\u001b[1;32m--> 767\u001b[0m \u001b[39mself\u001b[39;49m\u001b[39m.\u001b[39;49m_mgr\u001b[39m.\u001b[39;49mset_axis(axis, labels)\n\u001b[0;32m    768\u001b[0m \u001b[39mself\u001b[39m\u001b[39m.\u001b[39m_clear_item_cache()\n",
      "File \u001b[1;32m~\\AppData\\Local\\Packages\\PythonSoftwareFoundation.Python.3.11_qbz5n2kfra8p0\\LocalCache\\local-packages\\Python311\\site-packages\\pandas\\core\\internals\\managers.py:227\u001b[0m, in \u001b[0;36mBaseBlockManager.set_axis\u001b[1;34m(self, axis, new_labels)\u001b[0m\n\u001b[0;32m    225\u001b[0m \u001b[39mdef\u001b[39;00m \u001b[39mset_axis\u001b[39m(\u001b[39mself\u001b[39m, axis: AxisInt, new_labels: Index) \u001b[39m-\u001b[39m\u001b[39m>\u001b[39m \u001b[39mNone\u001b[39;00m:\n\u001b[0;32m    226\u001b[0m     \u001b[39m# Caller is responsible for ensuring we have an Index object.\u001b[39;00m\n\u001b[1;32m--> 227\u001b[0m     \u001b[39mself\u001b[39;49m\u001b[39m.\u001b[39;49m_validate_set_axis(axis, new_labels)\n\u001b[0;32m    228\u001b[0m     \u001b[39mself\u001b[39m\u001b[39m.\u001b[39maxes[axis] \u001b[39m=\u001b[39m new_labels\n",
      "File \u001b[1;32m~\\AppData\\Local\\Packages\\PythonSoftwareFoundation.Python.3.11_qbz5n2kfra8p0\\LocalCache\\local-packages\\Python311\\site-packages\\pandas\\core\\internals\\base.py:85\u001b[0m, in \u001b[0;36mDataManager._validate_set_axis\u001b[1;34m(self, axis, new_labels)\u001b[0m\n\u001b[0;32m     82\u001b[0m     \u001b[39mpass\u001b[39;00m\n\u001b[0;32m     84\u001b[0m \u001b[39melif\u001b[39;00m new_len \u001b[39m!=\u001b[39m old_len:\n\u001b[1;32m---> 85\u001b[0m     \u001b[39mraise\u001b[39;00m \u001b[39mValueError\u001b[39;00m(\n\u001b[0;32m     86\u001b[0m         \u001b[39mf\u001b[39m\u001b[39m\"\u001b[39m\u001b[39mLength mismatch: Expected axis has \u001b[39m\u001b[39m{\u001b[39;00mold_len\u001b[39m}\u001b[39;00m\u001b[39m elements, new \u001b[39m\u001b[39m\"\u001b[39m\n\u001b[0;32m     87\u001b[0m         \u001b[39mf\u001b[39m\u001b[39m\"\u001b[39m\u001b[39mvalues have \u001b[39m\u001b[39m{\u001b[39;00mnew_len\u001b[39m}\u001b[39;00m\u001b[39m elements\u001b[39m\u001b[39m\"\u001b[39m\n\u001b[0;32m     88\u001b[0m     )\n",
      "\u001b[1;31mValueError\u001b[0m: Length mismatch: Expected axis has 16 elements, new values have 14 elements"
     ]
    }
   ],
   "source": [
    "# Sanitize the header names by removing leading and trailing underscores and replacing '__' with '_'\n",
    "sanitized_header = [header.strip('_').replace('__', '_') for header in combined_header]\n",
    "\n",
    "# Read the actual data into a DataFrame, skipping the header rows\n",
    "df_data = pd.read_excel(file_path, sheet_name=sheet_name, skiprows=column_number_row_index)\n",
    "\n",
    "# Set the correct header for the dataframe, trimming to match the number of data columns\n",
    "df_data.columns = sanitized_header[:len(df_data.columns)]\n",
    "\n",
    "# Replace 'm' with np.nan for missing values\n",
    "df_data.replace('m', pd.NA, inplace=True)\n",
    "\n",
    "# Display the first few rows of the dataframe\n",
    "df_data.head()"
   ]
  }
 ],
 "metadata": {
  "kernelspec": {
   "display_name": "Python 3",
   "language": "python",
   "name": "python3"
  },
  "language_info": {
   "codemirror_mode": {
    "name": "ipython",
    "version": 3
   },
   "file_extension": ".py",
   "mimetype": "text/x-python",
   "name": "python",
   "nbconvert_exporter": "python",
   "pygments_lexer": "ipython3",
   "version": "3.11.6"
  }
 },
 "nbformat": 4,
 "nbformat_minor": 2
}
